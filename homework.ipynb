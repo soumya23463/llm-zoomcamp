{
 "cells": [
  {
   "cell_type": "code",
   "execution_count": null,
   "id": "c20a45f2-7f95-42f6-8d86-7b3aca6f6d9b",
   "metadata": {},
   "outputs": [],
   "source": [
    "#Q1: version.build_hash = 2e94dc48d5dbe407e2066eb6839c826fa2436e24"
   ]
  },
  {
   "cell_type": "code",
   "execution_count": 8,
   "id": "b4052ea9-0dd4-4449-8f45-89a5a203da8f",
   "metadata": {},
   "outputs": [],
   "source": [
    "#Q2: index"
   ]
  },
  {
   "cell_type": "code",
   "execution_count": 9,
   "id": "02e9871b-3c4d-4db7-b20d-fa261d36e03b",
   "metadata": {},
   "outputs": [],
   "source": [
    "query = \"How do execute a command on a Kubernetes pod?\"\n",
    "\n",
    "search_query = {\n",
    "    \"size\": 5,\n",
    "    \"query\": {\n",
    "        \"bool\": {\n",
    "            \"must\": {\n",
    "                \"multi_match\": {\n",
    "                    \"query\": query,\n",
    "                    \"fields\": [\"question^4\", \"text\"],\n",
    "                    \"type\": \"best_fields\"\n",
    "                }\n",
    "            }\n",
    "        }\n",
    "    }\n",
    "}\n",
    "\n",
    "response = es.search(index=\"course-questions\", body=search_query)\n"
   ]
  },
  {
   "cell_type": "code",
   "execution_count": 10,
   "id": "71d158f0-f6d8-48e6-9a02-bf557ff36246",
   "metadata": {},
   "outputs": [
    {
     "name": "stdout",
     "output_type": "stream",
     "text": [
      "Score: 44.561066\n",
      "Question: How do I debug a docker container?\n",
      "\n",
      "Score: 44.561066\n",
      "Question: How do I debug a docker container?\n",
      "\n",
      "Score: 36.061535\n",
      "Question: Kubernetes-dashboard\n",
      "\n",
      "Score: 36.061535\n",
      "Question: Kubernetes-dashboard\n",
      "\n",
      "Score: 33.75113\n",
      "Question: How do I copy files from a different folder into docker container’s working directory?\n",
      "\n"
     ]
    }
   ],
   "source": [
    "for hit in response['hits']['hits']:\n",
    "    print(f\"Score: {hit['_score']}\")\n",
    "    print(f\"Question: {hit['_source']['question']}\")\n",
    "    print()\n"
   ]
  },
  {
   "cell_type": "code",
   "execution_count": 11,
   "id": "a0e11ac3-796a-41d6-ac66-80e22c02c7c2",
   "metadata": {},
   "outputs": [],
   "source": [
    "#Q3: 44.50"
   ]
  },
  {
   "cell_type": "code",
   "execution_count": 14,
   "id": "b53d2979-a4f5-4e85-a7c5-2ca91fb017f2",
   "metadata": {},
   "outputs": [
    {
     "name": "stdout",
     "output_type": "stream",
     "text": [
      "Score: 73.51637\n",
      "Question: How do I debug a docker container?\n",
      "Score: 73.51637\n",
      "Question: How do I debug a docker container?\n",
      "Score: 66.95087\n",
      "Question: How do I copy files from my local machine to docker container?\n"
     ]
    }
   ],
   "source": [
    "from elasticsearch import Elasticsearch\n",
    "es_client = Elasticsearch(\"http://localhost:9200\")\n",
    "query = \"How do copy a file to a Docker container?\"\n",
    "\n",
    "search_query = {\n",
    "    \"size\": 3,\n",
    "    \"query\": {\n",
    "        \"bool\": {\n",
    "            \"must\": {\n",
    "                \"multi_match\": {\n",
    "                    \"query\": query,\n",
    "                    \"fields\": [\"question^4\", \"text\"],\n",
    "                    \"type\": \"best_fields\"\n",
    "                }\n",
    "            },\n",
    "            \"filter\": {\n",
    "                \"term\": {\n",
    "                    \"course\": \"machine-learning-zoomcamp\"\n",
    "                }\n",
    "            }\n",
    "        }\n",
    "    }\n",
    "}\n",
    "\n",
    "response = es_client.search(index=\"course-questions\", body=search_query)\n",
    "\n",
    "for hit in response['hits']['hits']:\n",
    "    print(f\"Score: {hit['_score']}\")\n",
    "    print(f\"Question: {hit['_source']['question']}\")\n"
   ]
  },
  {
   "cell_type": "code",
   "execution_count": 15,
   "id": "ef380aee-251a-48a7-afd7-d18d45e2a23e",
   "metadata": {},
   "outputs": [],
   "source": [
    "#Q4: How do I copy files from my local machine to docker container?"
   ]
  },
  {
   "cell_type": "code",
   "execution_count": 16,
   "id": "f58a085b-81e1-4734-b643-074021aabf26",
   "metadata": {},
   "outputs": [],
   "source": [
    "context_template = \"\"\"\n",
    "Q: {question}\n",
    "A: {text}\n",
    "\"\"\".strip()"
   ]
  },
  {
   "cell_type": "code",
   "execution_count": 17,
   "id": "5c0affed-3a47-4779-a83e-def88a710990",
   "metadata": {},
   "outputs": [],
   "source": [
    "prompt_template = \"\"\"\n",
    "You're a course teaching assistant. Answer the QUESTION based on the CONTEXT from the FAQ database.\n",
    "Use only the facts from the CONTEXT when answering the QUESTION.\n",
    "\n",
    "QUESTION: {question}\n",
    "\n",
    "CONTEXT:\n",
    "{context}\n",
    "\"\"\".strip()\n"
   ]
  },
  {
   "cell_type": "code",
   "execution_count": 18,
   "id": "54d7d601-7bfd-44c5-8edf-8867b09660b1",
   "metadata": {},
   "outputs": [
    {
     "name": "stdout",
     "output_type": "stream",
     "text": [
      "629\n"
     ]
    }
   ],
   "source": [
    "# Top 3 hits from Elasticsearch (example values, use your real response)\n",
    "hits = [\n",
    "    {\n",
    "        \"question\": \"How do I debug a docker container?\",\n",
    "        \"text\": \"You can debug a Docker container by running it with an interactive shell and checking logs.\"\n",
    "    },\n",
    "    {\n",
    "        \"question\": \"How do I debug a docker container?\",\n",
    "        \"text\": \"You can attach to a running container using docker exec -it <container> /bin/bash.\"\n",
    "    },\n",
    "    {\n",
    "        \"question\": \"How do I copy files from my local machine to docker container?\",\n",
    "        \"text\": \"Use the docker cp command. Example: docker cp file.txt my_container:/app/\"\n",
    "    }\n",
    "]\n",
    "\n",
    "# Context building\n",
    "context_blocks = []\n",
    "for hit in hits:\n",
    "    context_blocks.append(context_template.format(\n",
    "        question=hit[\"question\"],\n",
    "        text=hit[\"text\"]\n",
    "    ))\n",
    "\n",
    "full_context = \"\\n\\n\".join(context_blocks)\n",
    "\n",
    "# Prompt building\n",
    "question = \"How do copy a file to a Docker container?\"\n",
    "final_prompt = prompt_template.format(question=question, context=full_context)\n",
    "\n",
    "# Get length\n",
    "print(len(final_prompt))\n"
   ]
  },
  {
   "cell_type": "code",
   "execution_count": 19,
   "id": "e9187f49-21f8-4c65-9dc2-051a47776478",
   "metadata": {},
   "outputs": [],
   "source": [
    "#Q5: 946"
   ]
  },
  {
   "cell_type": "code",
   "execution_count": 20,
   "id": "8ebb5eca-6eff-4173-b50e-3eab84b016ec",
   "metadata": {},
   "outputs": [],
   "source": [
    "import tiktoken\n",
    "\n",
    "# Load encoding for GPT-4o model\n",
    "encoding = tiktoken.encoding_for_model(\"gpt-4o\")\n"
   ]
  },
  {
   "cell_type": "code",
   "execution_count": 21,
   "id": "c6749b85-4127-42a9-8144-0f6db65e57a6",
   "metadata": {},
   "outputs": [],
   "source": [
    "# Example prompt from Q5\n",
    "prompt = \"\"\"\n",
    "You're a course teaching assistant. Answer the QUESTION based on the CONTEXT from the FAQ database.\n",
    "Use only the facts from the CONTEXT when answering the QUESTION.\n",
    "\n",
    "QUESTION: How do copy a file to a Docker container?\n",
    "\n",
    "CONTEXT:\n",
    "Q: How do I debug a docker container?\n",
    "A: You can debug a Docker container by running it with an interactive shell and checking logs.\n",
    "\n",
    "Q: How do I debug a docker container?\n",
    "A: You can attach to a running container using docker exec -it <container> /bin/bash.\n",
    "\n",
    "Q: How do I copy files from my local machine to docker container?\n",
    "A: Use the docker cp command. Example: docker cp file.txt my_container:/app/\n",
    "\"\"\".strip()\n"
   ]
  },
  {
   "cell_type": "code",
   "execution_count": 22,
   "id": "ac3b536a-44e4-4651-9d77-58f157f73604",
   "metadata": {},
   "outputs": [
    {
     "name": "stdout",
     "output_type": "stream",
     "text": [
      "141\n"
     ]
    }
   ],
   "source": [
    "num_tokens = len(encoding.encode(prompt))\n",
    "print(num_tokens)"
   ]
  },
  {
   "cell_type": "code",
   "execution_count": null,
   "id": "40794484-1eda-4306-b14b-05d993152ce7",
   "metadata": {},
   "outputs": [],
   "source": [
    "#Q6-141"
   ]
  }
 ],
 "metadata": {
  "kernelspec": {
   "display_name": "Python 3 (ipykernel)",
   "language": "python",
   "name": "python3"
  },
  "language_info": {
   "codemirror_mode": {
    "name": "ipython",
    "version": 3
   },
   "file_extension": ".py",
   "mimetype": "text/x-python",
   "name": "python",
   "nbconvert_exporter": "python",
   "pygments_lexer": "ipython3",
   "version": "3.12.1"
  }
 },
 "nbformat": 4,
 "nbformat_minor": 5
}
